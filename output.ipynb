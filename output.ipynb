{
 "cells": [
  {
   "cell_type": "code",
   "execution_count": 1,
   "metadata": {
    "collapsed": false
   },
   "outputs": [],
   "source": [
    "%load_ext autoreload\n",
    "%autoreload 2"
   ]
  },
  {
   "cell_type": "code",
   "execution_count": 4,
   "metadata": {
    "collapsed": false
   },
   "outputs": [],
   "source": [
    "import os\n",
    "import pathlib"
   ]
  },
  {
   "cell_type": "code",
   "execution_count": 3,
   "metadata": {
    "collapsed": false
   },
   "outputs": [],
   "source": [
    "import numpy as np\n",
    "import pandas as pd\n",
    "import tensorflow as tf\n",
    "import matplotlib.pyplot as plt"
   ]
  },
  {
   "cell_type": "code",
   "execution_count": 9,
   "metadata": {
    "collapsed": false
   },
   "outputs": [],
   "source": [
    "from sklearn.model_selection import train_test_split"
   ]
  },
  {
   "cell_type": "code",
   "execution_count": 13,
   "metadata": {
    "collapsed": false
   },
   "outputs": [],
   "source": [
    "from train_model import *\n",
    "from load_data import *"
   ]
  },
  {
   "cell_type": "code",
   "execution_count": 19,
   "metadata": {
    "collapsed": false
   },
   "outputs": [
    {
     "data": {
      "text/plain": [
       "'/mnt/Sarat_Drive/saratnew/kaggle/cat-in-the-dat'"
      ]
     },
     "execution_count": 19,
     "metadata": {},
     "output_type": "execute_result"
    }
   ],
   "source": [
    "pwd"
   ]
  },
  {
   "cell_type": "code",
   "execution_count": 20,
   "metadata": {
    "collapsed": false
   },
   "outputs": [],
   "source": [
    "train_file = 'inputs/train.csv'\n",
    "test_file = 'inputs/test.csv'\n",
    "\n",
    "train_data, test_data = load_csv(train_file, test_file)"
   ]
  },
  {
   "cell_type": "code",
   "execution_count": 26,
   "metadata": {
    "collapsed": false
   },
   "outputs": [],
   "source": [
    "train_dataset, valid_dataset, test_dataset = train_valid_test_datasets(\n",
    "    train_data, test_data)"
   ]
  },
  {
   "cell_type": "code",
   "execution_count": null,
   "metadata": {
    "collapsed": false
   },
   "outputs": [],
   "source": []
  }
 ],
 "metadata": {
  "kernelspec": {
   "argv": [
    "/home/sarat/packages/anaconda3/bin/python",
    "-m",
    "ipykernel_launcher",
    "-f",
    "{connection_file}"
   ],
   "display_name": "Python 3.7.4 64-bit ('base': conda)",
   "env": {
    "AMD_ENTRYPOINT": "vs/workbench/services/extensions/node/extensionHostProcess",
    "APPLICATION_INSIGHTS_NO_DIAGNOSTIC_CHANNEL": "true",
    "CHROME_DESKTOP": "code-url-handler.desktop",
    "CLUTTER_IM_MODULE": "xim",
    "COLORTERM": "truecolor",
    "CONDA_DEFAULT_ENV": "base",
    "CONDA_EXE": "/home/sarat/packages/anaconda3/bin/conda",
    "CONDA_PREFIX": "/home/sarat/packages/anaconda3",
    "CONDA_PROMPT_MODIFIER": "(base) ",
    "CONDA_PYTHON_EXE": "/home/sarat/packages/anaconda3/bin/python",
    "CONDA_SHLVL": "1",
    "DBUS_SESSION_BUS_ADDRESS": "unix:path=/run/user/1000/bus",
    "DEFAULTS_PATH": "/usr/share/gconf/ubuntu.default.path",
    "DESKTOP_AUTOSTART_ID": "1038b7ab96939a605c157886676389008900000031450007",
    "DESKTOP_SESSION": "ubuntu",
    "DISPLAY": ":0",
    "ELECTRON_NO_ATTACH_CONSOLE": "1",
    "ELECTRON_RUN_AS_NODE": "1",
    "GDMSESSION": "ubuntu",
    "GDM_LANG": "en_US",
    "GNOME_DESKTOP_SESSION_ID": "this-is-deprecated",
    "GNOME_SHELL_SESSION_MODE": "ubuntu",
    "GNOME_TERMINAL_SCREEN": "/org/gnome/Terminal/screen/6478d8f1_2cfb_4629_813f_03e7fd205fe5",
    "GNOME_TERMINAL_SERVICE": ":1.108",
    "GPG_AGENT_INFO": "/run/user/1000/gnupg/S.gpg-agent:0:1",
    "GTK_IM_MODULE": "ibus",
    "GTK_MODULES": "gail:atk-bridge",
    "HOME": "/home/sarat",
    "IM_CONFIG_PHASE": "2",
    "KAGGLE_CONFIG_DIR": "/home/sarat/.kaggle/kaggle.json",
    "KAGGLE_KEY": "3c013d682ebc03037a5f2722a03692c0",
    "KAGGLE_USERNAME": "saratbhargava",
    "LANG": "en_US.UTF-8",
    "LANGUAGE": "en_US",
    "LD_LIBRARY_PATH": ":/home/sarat/.mujoco/mujoco200/bin",
    "LESSCLOSE": "/usr/bin/lesspipe %s %s",
    "LESSOPEN": "| /usr/bin/lesspipe %s",
    "LOGNAME": "sarat",
    "LS_COLORS": "rs=0:di=01;34:ln=01;36:mh=00:pi=40;33:so=01;35:do=01;35:bd=40;33;01:cd=40;33;01:or=40;31;01:mi=00:su=37;41:sg=30;43:ca=30;41:tw=30;42:ow=34;42:st=37;44:ex=01;32:*.tar=01;31:*.tgz=01;31:*.arc=01;31:*.arj=01;31:*.taz=01;31:*.lha=01;31:*.lz4=01;31:*.lzh=01;31:*.lzma=01;31:*.tlz=01;31:*.txz=01;31:*.tzo=01;31:*.t7z=01;31:*.zip=01;31:*.z=01;31:*.Z=01;31:*.dz=01;31:*.gz=01;31:*.lrz=01;31:*.lz=01;31:*.lzo=01;31:*.xz=01;31:*.zst=01;31:*.tzst=01;31:*.bz2=01;31:*.bz=01;31:*.tbz=01;31:*.tbz2=01;31:*.tz=01;31:*.deb=01;31:*.rpm=01;31:*.jar=01;31:*.war=01;31:*.ear=01;31:*.sar=01;31:*.rar=01;31:*.alz=01;31:*.ace=01;31:*.zoo=01;31:*.cpio=01;31:*.7z=01;31:*.rz=01;31:*.cab=01;31:*.wim=01;31:*.swm=01;31:*.dwm=01;31:*.esd=01;31:*.jpg=01;35:*.jpeg=01;35:*.mjpg=01;35:*.mjpeg=01;35:*.gif=01;35:*.bmp=01;35:*.pbm=01;35:*.pgm=01;35:*.ppm=01;35:*.tga=01;35:*.xbm=01;35:*.xpm=01;35:*.tif=01;35:*.tiff=01;35:*.png=01;35:*.svg=01;35:*.svgz=01;35:*.mng=01;35:*.pcx=01;35:*.mov=01;35:*.mpg=01;35:*.mpeg=01;35:*.m2v=01;35:*.mkv=01;35:*.webm=01;35:*.ogm=01;35:*.mp4=01;35:*.m4v=01;35:*.mp4v=01;35:*.vob=01;35:*.qt=01;35:*.nuv=01;35:*.wmv=01;35:*.asf=01;35:*.rm=01;35:*.rmvb=01;35:*.flc=01;35:*.avi=01;35:*.fli=01;35:*.flv=01;35:*.gl=01;35:*.dl=01;35:*.xcf=01;35:*.xwd=01;35:*.yuv=01;35:*.cgm=01;35:*.emf=01;35:*.ogv=01;35:*.ogx=01;35:*.aac=00;36:*.au=00;36:*.flac=00;36:*.m4a=00;36:*.mid=00;36:*.midi=00;36:*.mka=00;36:*.mp3=00;36:*.mpc=00;36:*.ogg=00;36:*.ra=00;36:*.wav=00;36:*.oga=00;36:*.opus=00;36:*.spx=00;36:*.xspf=00;36:",
    "MANDATORY_PATH": "/usr/share/gconf/ubuntu.mandatory.path",
    "NO_AT_BRIDGE": "1",
    "OLDPWD": "/media/sarat/Sarat_Drive/saratnew/quarter5/coding",
    "PATH": "/home/sarat/packages/anaconda3/bin:/home/sarat/packages/anaconda3/condabin:/home/sarat/.local/bin:/usr/local/sbin:/usr/local/bin:/usr/sbin:/usr/bin:/sbin:/bin:/usr/games:/usr/local/games:/snap/bin",
    "PIPE_LOGGING": "true",
    "PWD": "/media/sarat/Sarat_Drive/saratnew/quarter5/coding/lcode",
    "PYTHONIOENCODING": "utf-8",
    "PYTHONUNBUFFERED": "1",
    "QT4_IM_MODULE": "xim",
    "QT_ACCESSIBILITY": "1",
    "QT_IM_MODULE": "ibus",
    "SESSION_MANAGER": "local/sarat-Inspiron-5567:@/tmp/.ICE-unix/3145,unix/sarat-Inspiron-5567:/tmp/.ICE-unix/3145",
    "SHELL": "/bin/bash",
    "SHLVL": "3",
    "SSH_AGENT_PID": "3280",
    "SSH_AUTH_SOCK": "/run/user/1000/keyring/ssh",
    "TERM": "xterm-256color",
    "TEXTDOMAIN": "im-config",
    "TEXTDOMAINDIR": "/usr/share/locale/",
    "USER": "sarat",
    "VERBOSE_LOGGING": "true",
    "VSCODE_CLI": "1",
    "VSCODE_HANDLES_UNCAUGHT_ERRORS": "true",
    "VSCODE_IPC_HOOK": "/run/user/1000/vscode-5d30db92-1.41.1-main.sock",
    "VSCODE_IPC_HOOK_EXTHOST": "/tmp/vscode-ipc-1d652c28-825a-4f12-8bcc-3da79edc8eb8.sock",
    "VSCODE_LOGS": "/home/sarat/.config/Code/logs/20200112T141656",
    "VSCODE_LOG_STACK": "false",
    "VSCODE_NLS_CONFIG": "{\"locale\":\"en-us\",\"availableLanguages\":{},\"_languagePackSupport\":true}",
    "VSCODE_NODE_CACHED_DATA_DIR": "/home/sarat/.config/Code/CachedData/26076a4de974ead31f97692a0d32f90d735645c0",
    "VSCODE_PID": "5681",
    "VSLS_SESSION_KEEPALIVE_INTERVAL": "20",
    "VTE_VERSION": "5202",
    "XAUTHORITY": "/home/sarat/.Xauthority",
    "XDG_CONFIG_DIRS": "/etc/xdg/xdg-ubuntu:/etc/xdg",
    "XDG_CURRENT_DESKTOP": "Unity",
    "XDG_DATA_DIRS": "/usr/share/ubuntu:/home/sarat/.local/share/flatpak/exports/share:/var/lib/flatpak/exports/share:/usr/local/share:/usr/share:/var/lib/snapd/desktop",
    "XDG_GREETER_DATA_DIR": "/var/lib/lightdm-data/sarat",
    "XDG_MENU_PREFIX": "gnome-",
    "XDG_RUNTIME_DIR": "/run/user/1000",
    "XDG_SEAT": "seat0",
    "XDG_SEAT_PATH": "/org/freedesktop/DisplayManager/Seat0",
    "XDG_SESSION_DESKTOP": "ubuntu",
    "XDG_SESSION_ID": "c2",
    "XDG_SESSION_PATH": "/org/freedesktop/DisplayManager/Session0",
    "XDG_SESSION_TYPE": "x11",
    "XDG_VTNR": "7",
    "XMODIFIERS": "@im=ibus",
    "_": "/home/sarat/packages/anaconda3/bin/python",
    "_CE_CONDA": "",
    "_CE_M": ""
   },
   "interrupt_mode": "signal",
   "language": "python",
   "metadata": {
    "interpreter": {
     "architecture": 3,
     "companyDisplayName": "Anaconda, Inc.",
     "displayName": "Python 3.7.4 64-bit ('base': conda)",
     "envName": "base",
     "envPath": "/home/sarat/packages/anaconda3",
     "fileHash": "1ed4f52a462fb3b9973a8206caecb39d6c81e8edebf80ab5fec618c761653096ce500623035c4aa48056b6b6c1bc19edf1a7798904e154f1f4a632395f9df1c5",
     "path": "/home/sarat/packages/anaconda3/bin/python",
     "sysPrefix": "/home/sarat/packages/anaconda3",
     "type": "Conda",
     "version": {
      "build": null,
      "loose": false,
      "major": 3,
      "minor": 7,
      "options": {
       "includePrerelease": false,
       "loose": false
      },
      "patch": 4,
      "prerelease": [
       "final"
      ],
      "raw": "3.7.4-final",
      "version": "3.7.4-final"
     }
    }
   },
   "name": "python37464bitbaseconda0647acac7b8e494d98ecbdacbf4deb61"
  },
  "name": "output.ipynb"
 },
 "nbformat": 4,
 "nbformat_minor": 4
}
